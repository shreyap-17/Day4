{
 "cells": [
  {
   "cell_type": "markdown",
   "metadata": {},
   "source": [
    "# NumPy"
   ]
  },
  {
   "cell_type": "code",
   "execution_count": 1,
   "metadata": {},
   "outputs": [
    {
     "name": "stdout",
     "output_type": "stream",
     "text": [
      "2\n",
      "[[ 1  2  3  4  5  6]\n",
      " [ 7  8  9 10 11 12]]\n",
      "78\n",
      "12\n",
      "<built-in method max of numpy.ndarray object at 0x0000022EE5D7C710>\n"
     ]
    }
   ],
   "source": [
    "import numpy as np\n",
    "a = np.array([[1,2,3,4,5,6],[7,8,9,10,11,12]])\n",
    "print(a.ndim)\n",
    "#will show value error\n",
    "#a.reshape((5,2)) \n",
    "#reshaping array\n",
    "a.reshape((3,4))\n",
    "print(a)\n",
    "#Sum of all elements of array\n",
    "sum1 = a.sum()\n",
    "print(sum1)\n",
    "#finding size of array\n",
    "print(a.size)\n",
    "#find maximum value in array\n",
    "max1 = a.max\n",
    "print(max1)"
   ]
  },
  {
   "cell_type": "markdown",
   "metadata": {},
   "source": [
    "# pandas"
   ]
  },
  {
   "cell_type": "code",
   "execution_count": 2,
   "metadata": {},
   "outputs": [
    {
     "name": "stdout",
     "output_type": "stream",
     "text": [
      "    user_id language   rating\n",
      "0         1    python       4\n",
      "1         2      java       2\n",
      "2         3    aspnet       1\n",
      "3         4       php       3\n",
      "4         5         c       5\n",
      "5         6    python       2\n",
      "6         7      java       4\n",
      "7         8    aspnet       2\n",
      "8         9       php       1\n",
      "9        10         c       3\n",
      "10       11    python       5\n",
      "11       12      java       2\n",
      "   a  b  c\n",
      "0  1  4  7\n",
      "1  2  5  8\n",
      "2  3  6  9\n",
      "\n",
      "0    3\n",
      "1    5\n",
      "2    7\n",
      "3    9\n",
      "dtype: int32\n",
      "\n",
      "   0  1  2  3\n",
      "0  1  4  6  7\n",
      "1  3  5  7  9\n",
      "\n",
      "   a  b\n",
      "0  1  4\n",
      "1  2  5\n",
      "2  3  6\n",
      "3  4  7\n",
      "4  5  8\n",
      " \n",
      "   0  1\n",
      "0  1  5\n",
      "1  2  6\n",
      "2  3  7\n",
      "3  4  8\n"
     ]
    }
   ],
   "source": [
    "import pandas as pd\n",
    "\n",
    "df = pd.read_csv(\"1.csv\")\n",
    "print(df)\n",
    "#df1 = df[\"rating\"] *= 2\n",
    "d = {'a':[1,2,3],'b':[4,5,6],'c':[7,8,9]}\n",
    "df = pd.DataFrame(d)\n",
    "print(df)\n",
    "print(\"\")\n",
    "\n",
    "import numpy as np\n",
    "a = np.array([3,5,7,9])\n",
    "b = np.array([1,4,6,7])\n",
    "s = pd.Series(a)\n",
    "s1 = pd.Series(b)\n",
    "print(s)\n",
    "print(\"\")\n",
    "df2 = pd.DataFrame([s1,s])\n",
    "print(df2)\n",
    "print(\"\")\n",
    "\n",
    "d1 = {'a':[1,2,3,4,5],'b':[4,5,6,7,8]}\n",
    "df3 = pd.DataFrame(d1)\n",
    "print(df3)\n",
    "print(\" \")\n",
    "s4 = pd.Series([1,2,3,4])\n",
    "s5 = pd.Series([5,6,7,8])\n",
    "c1 = pd.concat([s4,s5],axis=1)\n",
    "print(c1)\n"
   ]
  },
  {
   "cell_type": "markdown",
   "metadata": {},
   "source": [
    "# Task 1 "
   ]
  },
  {
   "cell_type": "code",
   "execution_count": 3,
   "metadata": {},
   "outputs": [
    {
     "name": "stdout",
     "output_type": "stream",
     "text": [
      "   a  b\n",
      "0  1  2\n"
     ]
    },
    {
     "data": {
      "text/html": [
       "<div>\n",
       "<style scoped>\n",
       "    .dataframe tbody tr th:only-of-type {\n",
       "        vertical-align: middle;\n",
       "    }\n",
       "\n",
       "    .dataframe tbody tr th {\n",
       "        vertical-align: top;\n",
       "    }\n",
       "\n",
       "    .dataframe thead th {\n",
       "        text-align: right;\n",
       "    }\n",
       "</style>\n",
       "<table border=\"1\" class=\"dataframe\">\n",
       "  <thead>\n",
       "    <tr style=\"text-align: right;\">\n",
       "      <th></th>\n",
       "      <th>a</th>\n",
       "      <th>b</th>\n",
       "    </tr>\n",
       "  </thead>\n",
       "  <tbody>\n",
       "    <tr>\n",
       "      <th>0</th>\n",
       "      <td>1</td>\n",
       "      <td>4</td>\n",
       "    </tr>\n",
       "    <tr>\n",
       "      <th>1</th>\n",
       "      <td>2</td>\n",
       "      <td>5</td>\n",
       "    </tr>\n",
       "  </tbody>\n",
       "</table>\n",
       "</div>"
      ],
      "text/plain": [
       "   a  b\n",
       "0  1  4\n",
       "1  2  5"
      ]
     },
     "execution_count": 3,
     "metadata": {},
     "output_type": "execute_result"
    }
   ],
   "source": [
    "import pandas as pd\n",
    "\n",
    "d = {'a':1,'b':2} \n",
    "\n",
    "#If we right below code it will show value error.\n",
    "#The reason is we are providing here a scalar values. \n",
    "#So our program can not able to decide to take this value as rows or columns.\n",
    "#df1 = pd.DataFrame(d)\n",
    "\n",
    "#So for sucessful execution we need to pass an index.\n",
    "df1 = pd.DataFrame(d,index=[0])\n",
    "\n",
    "print(df1)\n",
    "\n",
    "#Or we can write like below\n",
    "\n",
    "d1 = {'a':[1,2],'b':[4,5]}\n",
    "df2 = pd.DataFrame(d1)\n",
    "df2\n"
   ]
  },
  {
   "cell_type": "markdown",
   "metadata": {},
   "source": [
    "# Task 2"
   ]
  },
  {
   "cell_type": "code",
   "execution_count": 4,
   "metadata": {},
   "outputs": [
    {
     "name": "stdout",
     "output_type": "stream",
     "text": [
      "(3, 4)\n",
      "(12, 1)\n"
     ]
    }
   ],
   "source": [
    "import numpy as np\n",
    "\n",
    "z = np.array([[1, 2, 3, 4],\n",
    "         [5, 6, 7, 8],\n",
    "         [9, 10, 11, 12]])\n",
    "print(z.shape)\n",
    "\n",
    "z1 = z.reshape(-1,1)\n",
    "\n",
    "print(z1.shape)"
   ]
  },
  {
   "cell_type": "code",
   "execution_count": 5,
   "metadata": {},
   "outputs": [
    {
     "name": "stdout",
     "output_type": "stream",
     "text": [
      "Requirement already satisfied: xlrd in c:\\users\\shreya\\appdata\\local\\programs\\python\\python38\\lib\\site-packages (2.0.1)\n",
      "Note: you may need to restart the kernel to use updated packages.\n"
     ]
    },
    {
     "name": "stderr",
     "output_type": "stream",
     "text": [
      "WARNING: You are using pip version 20.2.1; however, version 21.1.2 is available.\n",
      "You should consider upgrading via the 'c:\\users\\shreya\\appdata\\local\\programs\\python\\python38\\python.exe -m pip install --upgrade pip' command.\n"
     ]
    }
   ],
   "source": [
    "pip install xlrd"
   ]
  },
  {
   "cell_type": "code",
   "execution_count": 6,
   "metadata": {},
   "outputs": [
    {
     "name": "stdout",
     "output_type": "stream",
     "text": [
      "Requirement already up-to-date: scikit-learn in c:\\users\\shreya\\appdata\\local\\programs\\python\\python38\\lib\\site-packages (0.24.2)\n",
      "Requirement already satisfied, skipping upgrade: numpy>=1.13.3 in c:\\users\\shreya\\appdata\\local\\programs\\python\\python38\\lib\\site-packages (from scikit-learn) (1.19.2)\n",
      "Requirement already satisfied, skipping upgrade: scipy>=0.19.1 in c:\\users\\shreya\\appdata\\local\\programs\\python\\python38\\lib\\site-packages (from scikit-learn) (1.6.3)\n",
      "Requirement already satisfied, skipping upgrade: threadpoolctl>=2.0.0 in c:\\users\\shreya\\appdata\\local\\programs\\python\\python38\\lib\\site-packages (from scikit-learn) (2.1.0)\n",
      "Requirement already satisfied, skipping upgrade: joblib>=0.11 in c:\\users\\shreya\\appdata\\local\\programs\\python\\python38\\lib\\site-packages (from scikit-learn) (1.0.1)\n",
      "Note: you may need to restart the kernel to use updated packages.\n"
     ]
    },
    {
     "name": "stderr",
     "output_type": "stream",
     "text": [
      "WARNING: You are using pip version 20.2.1; however, version 21.1.2 is available.\n",
      "You should consider upgrading via the 'c:\\users\\shreya\\appdata\\local\\programs\\python\\python38\\python.exe -m pip install --upgrade pip' command.\n"
     ]
    }
   ],
   "source": [
    "pip install -U scikit-learn"
   ]
  },
  {
   "cell_type": "markdown",
   "metadata": {},
   "source": [
    "# Task 3"
   ]
  },
  {
   "cell_type": "code",
   "execution_count": 7,
   "metadata": {},
   "outputs": [
    {
     "name": "stdout",
     "output_type": "stream",
     "text": [
      "[80. 90.]\n"
     ]
    }
   ],
   "source": [
    "import numpy as np\n",
    "#define input and output\n",
    "x = np.array([1,2,3,4,5,6])\n",
    "y = np.array([10,20,30,40,50,60])\n",
    "testing = np.array([8,9])\n",
    "\n",
    "from sklearn.linear_model import LinearRegression\n",
    "model = LinearRegression()\n",
    "#model.fit(x,y)\n",
    "#showing error because dimetion we gave is 1d and required is 2d\n",
    "model.fit(x.reshape(-1,1),y)\n",
    "model.predict(testing.reshape(-1,1))\n",
    "print(model.predict(testing.reshape(-1,1)))"
   ]
  },
  {
   "cell_type": "markdown",
   "metadata": {},
   "source": [
    "# Task 4"
   ]
  },
  {
   "cell_type": "code",
   "execution_count": 8,
   "metadata": {},
   "outputs": [
    {
     "name": "stdout",
     "output_type": "stream",
     "text": [
      "[57213.33333333 59486.66666667]\n"
     ]
    }
   ],
   "source": [
    "import numpy as np\n",
    "import pandas as pd\n",
    "data = pd.read_csv(\"sales.csv\")\n",
    "#print(data)\n",
    "\n",
    "data1 = data.groupby(['year']).mean()\n",
    "#print(data1)\n",
    "\n",
    "x = np.array(data1.index)\n",
    "y = np.array(data1[\"sales\"])\n",
    "\n",
    "testing = np.array([2020,2021])\n",
    "\n",
    "from sklearn.linear_model import LinearRegression\n",
    "model = LinearRegression()\n",
    "\n",
    "model.fit(x.reshape(-1,1),y)\n",
    "model.predict(testing.reshape(-1,1))\n",
    "print(model.predict(testing.reshape(-1,1)))"
   ]
  },
  {
   "cell_type": "code",
   "execution_count": null,
   "metadata": {},
   "outputs": [],
   "source": []
  }
 ],
 "metadata": {
  "kernelspec": {
   "display_name": "Python 3",
   "language": "python",
   "name": "python3"
  },
  "language_info": {
   "codemirror_mode": {
    "name": "ipython",
    "version": 3
   },
   "file_extension": ".py",
   "mimetype": "text/x-python",
   "name": "python",
   "nbconvert_exporter": "python",
   "pygments_lexer": "ipython3",
   "version": "3.8.6rc1"
  }
 },
 "nbformat": 4,
 "nbformat_minor": 4
}
